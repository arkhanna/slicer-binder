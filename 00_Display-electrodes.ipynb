{
 "cells": [
  {
   "cell_type": "code",
   "execution_count": 9,
   "id": "46286596-0713-43ca-9a75-2449b86df4de",
   "metadata": {},
   "outputs": [
    {
     "name": "stdout",
     "output_type": "stream",
     "text": [
      "Requirement already satisfied: tqdm in /Applications/Slicer.app/Contents/lib/Python/lib/python3.9/site-packages (4.64.1)\n",
      "\n",
      "[notice] A new release of pip available: 22.3 -> 22.3.1\n",
      "[notice] To update, run: python-real -m pip install --upgrade pip\n"
     ]
    }
   ],
   "source": [
    "import JupyterNotebooksLib as slicernb\n",
    "import slicer\n",
    "import requests"
   ]
  },
  {
   "cell_type": "code",
   "execution_count": 2,
   "id": "8961a1bd-e48e-44ab-b49f-01cef822d29b",
   "metadata": {},
   "outputs": [],
   "source": [
    "# Set viewer size to 50% of screen size\n",
    "slicernb.AppWindow.setWindowSize(scale=0.5)\n",
    "# Hide patient information from slice view\n",
    "slicernb.showSliceViewAnnotations(False)"
   ]
  },
  {
   "cell_type": "code",
   "execution_count": 20,
   "id": "30903385-c679-4547-8b3c-85777d171003",
   "metadata": {},
   "outputs": [],
   "source": [
    "# Download data\n",
    "url = 'https://www.dropbox.com/s/j84ah408dsryd5u/working_scene.mrb?dl=1'\n",
    "scene = requests.get(url)\n",
    "with open('./outputs/scene.mrb', 'wb') as handle:\n",
    "    handle.write(scene.content)"
   ]
  },
  {
   "cell_type": "code",
   "execution_count": 21,
   "id": "f26b949e-acba-4bcf-991e-b70d129f1141",
   "metadata": {},
   "outputs": [],
   "source": [
    "slicer.util.loadScene('./outputs/scene.mrb')"
   ]
  },
  {
   "cell_type": "code",
   "execution_count": 22,
   "id": "4226d3c5-bb81-4d56-9997-dbcd450df0b2",
   "metadata": {},
   "outputs": [
    {
     "data": {
      "text/html": [
       "\n",
       "        <iframe\n",
       "            width=\"960\"\n",
       "            height=\"768\"\n",
       "            src=\"/desktop/\"\n",
       "            frameborder=\"0\"\n",
       "            allowfullscreen\n",
       "            \n",
       "        ></iframe>\n",
       "        "
      ],
      "text/plain": [
       "<JupyterNotebooksLib.widgets.AppWindow at 0x15c3057f0>"
      ]
     },
     "execution_count": 22,
     "metadata": {},
     "output_type": "execute_result"
    }
   ],
   "source": [
    "app = slicernb.AppWindow()\n",
    "app"
   ]
  }
 ],
 "metadata": {
  "kernelspec": {
   "display_name": "Slicer 5.3",
   "language": "python",
   "name": "slicer-5.3"
  },
  "language_info": {
   "file_extension": ".py",
   "mimetype": "text/x-python",
   "name": "python",
   "version": "3.9.10"
  }
 },
 "nbformat": 4,
 "nbformat_minor": 5
}
